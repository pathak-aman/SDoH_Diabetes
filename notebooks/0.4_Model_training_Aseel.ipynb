{
  "cells": [
    {
      "cell_type": "markdown",
      "source": [
        "## 1. Imports"
      ],
      "metadata": {
        "id": "MwlXM-IS1dsf"
      }
    },
    {
      "cell_type": "code",
      "execution_count": 2,
      "metadata": {
        "id": "tPjCt9hQCMoQ"
      },
      "outputs": [],
      "source": [
        "#importing libraries\n",
        "import pandas as pd\n",
        "from sklearn.preprocessing import StandardScaler\n",
        "from sklearn.model_selection import train_test_split\n",
        "from sklearn.model_selection import StratifiedKFold\n",
        "from sklearn.linear_model import LogisticRegression\n",
        "from sklearn.svm import SVC\n",
        "from sklearn.metrics import accuracy_score\n",
        "#from econml.dr import DRLearner\n",
        "import warnings\n",
        "from sklearn.metrics import precision_score, recall_score, roc_auc_score, confusion_matrix,roc_curve\n",
        "from sklearn.model_selection import train_test_split, cross_val_score, StratifiedKFold\n",
        "import shap"
      ]
    },
    {
      "cell_type": "markdown",
      "source": [
        "## 2. Import Data\n",
        "\n",
        "\n"
      ],
      "metadata": {
        "id": "A5n3dF2W1pt6"
      }
    },
    {
      "cell_type": "code",
      "execution_count": 6,
      "metadata": {
        "id": "np8a0YqbCwGt"
      },
      "outputs": [],
      "source": [
        "# Importing Data\n",
        "X_train=pd.read_csv('/content/CausalAIdata/X_train.csv')\n",
        "X_test=pd.read_csv('/content/CausalAIdata/X_test.csv')\n",
        "y_train=pd.read_csv('/content/CausalAIdata/y_train.csv')\n",
        "y_test=pd.read_csv('/content/CausalAIdata/y_test.csv')"
      ]
    },
    {
      "cell_type": "code",
      "execution_count": 7,
      "metadata": {
        "colab": {
          "base_uri": "https://localhost:8080/"
        },
        "id": "8bsCRF8iDbTQ",
        "outputId": "5042fde1-e9af-461e-9f64-ad5d3a73b708"
      },
      "outputs": [
        {
          "output_type": "stream",
          "name": "stdout",
          "text": [
            "No missing values found in the dataset.\n"
          ]
        }
      ],
      "source": [
        "# Check for missing values\n",
        "if X_train.isnull().sum().any():\n",
        "    print(\"There are missing values in the dataset.\")\n",
        "else:\n",
        "    print(\"No missing values found in the dataset.\")"
      ]
    },
    {
      "cell_type": "code",
      "execution_count": 8,
      "metadata": {
        "colab": {
          "base_uri": "https://localhost:8080/"
        },
        "id": "DvGygkjjDrjP",
        "outputId": "a43bf9ef-8463-4eb3-8bad-57c1267d035a"
      },
      "outputs": [
        {
          "output_type": "execute_result",
          "data": {
            "text/plain": [
              "Index(['AnyHealthcare_1', 'HvyAlcoholConsump_1', 'Fruits_1', 'GenHlth_2',\n",
              "       'GenHlth_3', 'GenHlth_4', 'GenHlth_5', 'DiffWalk_1',\n",
              "       'HeartDiseaseorAttack_1', 'Education_2', 'Education_3', 'Education_4',\n",
              "       'Education_5', 'Education_6', 'Sex_1', 'Stroke_1', 'Veggies_1',\n",
              "       'CholCheck_1', 'Age_2', 'Age_3', 'Age_4', 'Age_5', 'Age_6', 'Age_7',\n",
              "       'Age_8', 'Age_9', 'Age_10', 'Age_11', 'Age_12', 'Age_13',\n",
              "       'PhysActivity_1', 'NoDocbcCost_1', 'HighChol_1', 'HighBP_1',\n",
              "       'MentHlth_1', 'Income_2', 'Income_3', 'Income_4', 'Income_5',\n",
              "       'Income_6', 'Income_7', 'Income_8', 'PhysHlth_1', 'Smoker_1', 'BMI'],\n",
              "      dtype='object')"
            ]
          },
          "metadata": {},
          "execution_count": 8
        }
      ],
      "source": [
        "X_train.columns"
      ]
    },
    {
      "cell_type": "code",
      "execution_count": 9,
      "metadata": {
        "colab": {
          "base_uri": "https://localhost:8080/"
        },
        "id": "5Hl6JhzAD1cn",
        "outputId": "5b866563-b695-4055-af1e-c8ef9ea0ef6e"
      },
      "outputs": [
        {
          "output_type": "execute_result",
          "data": {
            "text/plain": [
              "(34422, 45)"
            ]
          },
          "metadata": {},
          "execution_count": 9
        }
      ],
      "source": [
        "X_test.shape\n",
        "# X train: 195052 , x test: 34422\n",
        "# y train: 195052 , y test: 34422"
      ]
    },
    {
      "cell_type": "markdown",
      "source": [
        "## 3. Metrics functions"
      ],
      "metadata": {
        "id": "WddcT1rF1wfz"
      }
    },
    {
      "cell_type": "code",
      "execution_count": 12,
      "metadata": {
        "id": "KmbMWqxCDgyG"
      },
      "outputs": [],
      "source": [
        "# Function to calculate specificity\n",
        "def specificity_score(y_true, y_pred):\n",
        "    tn, fp, fn, tp = confusion_matrix(y_true, y_pred).ravel()\n",
        "    return tn / (tn + fp)\n",
        "\n",
        "# Function to evaluate metrics\n",
        "def evaluate_metrics(y_true, y_pred, y_scores):\n",
        "    precision = precision_score(y_true, y_pred)\n",
        "    recall = recall_score(y_true, y_pred)\n",
        "    specificity = specificity_score(y_true, y_pred)\n",
        "    sensitivity = recall  # Sensitivity is the same as recall\n",
        "    auc = roc_auc_score(y_true, y_scores)\n",
        "    return precision, recall, specificity, sensitivity, auc"
      ]
    },
    {
      "cell_type": "markdown",
      "source": [
        "# 4. Cross-Validation code"
      ],
      "metadata": {
        "id": "TA83kAkf2DtU"
      }
    },
    {
      "cell_type": "code",
      "execution_count": 13,
      "metadata": {
        "id": "g4cqZjAIDi8j"
      },
      "outputs": [],
      "source": [
        "# 5-fold Cross-Validation\n",
        "def cross_validate_model(model, train_X, train_y, metrics_fn, cv=5):\n",
        "    skf = StratifiedKFold(n_splits=cv)\n",
        "    metrics_list = []\n",
        "\n",
        "    for train_index, val_index in skf.split(train_X, train_y):\n",
        "        #X_train, X_val = train_X.iloc[train_index], train_X.iloc[val_index]\n",
        "        X_train_fold, X_val_fold = train_X.iloc[train_index], train_X.iloc[val_index]\n",
        "        #y_train, y_val = train_y.iloc[train_index], train_y.iloc[val_index]\n",
        "        y_train_fold, y_val_fold = train_y.iloc[train_index], train_y.iloc[val_index]\n",
        "\n",
        "        model.fit(X_train_fold, y_train_fold)\n",
        "        y_pred = model.predict(X_val_fold)\n",
        "        y_scores = model.predict_proba(X_val_fold)[:, 1]\n",
        "\n",
        "        metrics_list.append(metrics_fn(y_val_fold, y_pred, y_scores))\n",
        "\n",
        "    metrics_df = pd.DataFrame(metrics_list, columns=[\"Precision\", \"Recall\", \"Specificity\", \"Sensitivity\", \"AUC\"])\n",
        "    return metrics_df.mean(axis=0)"
      ]
    },
    {
      "cell_type": "markdown",
      "source": [
        "# 5. Train LR Model"
      ],
      "metadata": {
        "id": "6ZuLUmSmX3ue"
      }
    },
    {
      "cell_type": "code",
      "source": [
        "# Build LR model\n",
        "LR_model = LogisticRegression(max_iter=1000)\n",
        "LR_metrics = cross_validate_model(LR_model, X_train, y_train, evaluate_metrics)"
      ],
      "metadata": {
        "colab": {
          "base_uri": "https://localhost:8080/"
        },
        "id": "mQgpPcajc1R1",
        "outputId": "07143c70-29b3-41b4-a382-bf9bdda1553e"
      },
      "execution_count": 14,
      "outputs": [
        {
          "output_type": "stream",
          "name": "stderr",
          "text": [
            "/usr/local/lib/python3.10/dist-packages/sklearn/utils/validation.py:1339: DataConversionWarning: A column-vector y was passed when a 1d array was expected. Please change the shape of y to (n_samples, ), for example using ravel().\n",
            "  y = column_or_1d(y, warn=True)\n",
            "/usr/local/lib/python3.10/dist-packages/sklearn/utils/validation.py:1339: DataConversionWarning: A column-vector y was passed when a 1d array was expected. Please change the shape of y to (n_samples, ), for example using ravel().\n",
            "  y = column_or_1d(y, warn=True)\n",
            "/usr/local/lib/python3.10/dist-packages/sklearn/utils/validation.py:1339: DataConversionWarning: A column-vector y was passed when a 1d array was expected. Please change the shape of y to (n_samples, ), for example using ravel().\n",
            "  y = column_or_1d(y, warn=True)\n",
            "/usr/local/lib/python3.10/dist-packages/sklearn/utils/validation.py:1339: DataConversionWarning: A column-vector y was passed when a 1d array was expected. Please change the shape of y to (n_samples, ), for example using ravel().\n",
            "  y = column_or_1d(y, warn=True)\n",
            "/usr/local/lib/python3.10/dist-packages/sklearn/utils/validation.py:1339: DataConversionWarning: A column-vector y was passed when a 1d array was expected. Please change the shape of y to (n_samples, ), for example using ravel().\n",
            "  y = column_or_1d(y, warn=True)\n"
          ]
        }
      ]
    },
    {
      "cell_type": "code",
      "source": [
        "LR_metrics"
      ],
      "metadata": {
        "colab": {
          "base_uri": "https://localhost:8080/",
          "height": 241
        },
        "id": "y_rUbHAZdKtK",
        "outputId": "e575bfef-3667-4481-cd3e-f4dfb9fc20bc"
      },
      "execution_count": 15,
      "outputs": [
        {
          "output_type": "execute_result",
          "data": {
            "text/plain": [
              "Precision      0.560556\n",
              "Recall         0.147861\n",
              "Specificity    0.979028\n",
              "Sensitivity    0.147861\n",
              "AUC            0.808759\n",
              "dtype: float64"
            ],
            "text/html": [
              "<div>\n",
              "<style scoped>\n",
              "    .dataframe tbody tr th:only-of-type {\n",
              "        vertical-align: middle;\n",
              "    }\n",
              "\n",
              "    .dataframe tbody tr th {\n",
              "        vertical-align: top;\n",
              "    }\n",
              "\n",
              "    .dataframe thead th {\n",
              "        text-align: right;\n",
              "    }\n",
              "</style>\n",
              "<table border=\"1\" class=\"dataframe\">\n",
              "  <thead>\n",
              "    <tr style=\"text-align: right;\">\n",
              "      <th></th>\n",
              "      <th>0</th>\n",
              "    </tr>\n",
              "  </thead>\n",
              "  <tbody>\n",
              "    <tr>\n",
              "      <th>Precision</th>\n",
              "      <td>0.560556</td>\n",
              "    </tr>\n",
              "    <tr>\n",
              "      <th>Recall</th>\n",
              "      <td>0.147861</td>\n",
              "    </tr>\n",
              "    <tr>\n",
              "      <th>Specificity</th>\n",
              "      <td>0.979028</td>\n",
              "    </tr>\n",
              "    <tr>\n",
              "      <th>Sensitivity</th>\n",
              "      <td>0.147861</td>\n",
              "    </tr>\n",
              "    <tr>\n",
              "      <th>AUC</th>\n",
              "      <td>0.808759</td>\n",
              "    </tr>\n",
              "  </tbody>\n",
              "</table>\n",
              "</div><br><label><b>dtype:</b> float64</label>"
            ]
          },
          "metadata": {},
          "execution_count": 15
        }
      ]
    },
    {
      "cell_type": "code",
      "source": [
        "# save model\n",
        "import joblib\n",
        "import os\n",
        "model_dir = \"../model\"\n",
        "joblib.dump(LR_model,  \"LR_model.joblib\")"
      ],
      "metadata": {
        "colab": {
          "base_uri": "https://localhost:8080/"
        },
        "id": "-fBd5sbzdCsm",
        "outputId": "8c8d67e9-3dcb-4525-9b4a-3a3629e8052f"
      },
      "execution_count": 17,
      "outputs": [
        {
          "output_type": "execute_result",
          "data": {
            "text/plain": [
              "['LR_model.joblib']"
            ]
          },
          "metadata": {},
          "execution_count": 17
        }
      ]
    },
    {
      "cell_type": "markdown",
      "source": [
        "# 6. Train LighGBM model"
      ],
      "metadata": {
        "id": "IKOYJLD2YLk8"
      }
    },
    {
      "cell_type": "code",
      "source": [
        "  # build the lightgbm model\n",
        "import lightgbm as lgb\n",
        "lgb_model = lgb.LGBMClassifier(\n",
        "    objective='binary',         # Objective for binary classification\n",
        "    boosting_type='gbdt',       # Gradient Boosting Decision Trees\n",
        "    num_leaves=31,              # Maximum number of leaves in one tree\n",
        "    learning_rate=0.05,         # Learning rate (step size shrinkage)\n",
        "    n_estimators=100,           # Number of boosting iterations (trees)\n",
        "    max_depth=10,               # Maximum tree depth\n",
        "    min_child_samples=10,       # Minimum number of samples per leaf\n",
        "    min_child_weight=5.0,       # Minimum sum of instance weights in a child node\n",
        "    random_state=42             # Ensures reproducibility\n",
        ")"
      ],
      "metadata": {
        "id": "E_s_KJ0QYS2W"
      },
      "execution_count": 21,
      "outputs": []
    },
    {
      "cell_type": "code",
      "source": [
        "lgb_metrics = cross_validate_model(lgb_model, X_train, y_train, evaluate_metrics)"
      ],
      "metadata": {
        "colab": {
          "base_uri": "https://localhost:8080/"
        },
        "id": "IY9iLQcIZE_8",
        "outputId": "50535df1-b0a3-44bf-cac1-5b8ab723564f"
      },
      "execution_count": 22,
      "outputs": [
        {
          "output_type": "stream",
          "name": "stderr",
          "text": [
            "/usr/local/lib/python3.10/dist-packages/sklearn/preprocessing/_label.py:97: DataConversionWarning: A column-vector y was passed when a 1d array was expected. Please change the shape of y to (n_samples, ), for example using ravel().\n",
            "  y = column_or_1d(y, warn=True)\n",
            "/usr/local/lib/python3.10/dist-packages/sklearn/preprocessing/_label.py:132: DataConversionWarning: A column-vector y was passed when a 1d array was expected. Please change the shape of y to (n_samples, ), for example using ravel().\n",
            "  y = column_or_1d(y, dtype=self.classes_.dtype, warn=True)\n"
          ]
        },
        {
          "output_type": "stream",
          "name": "stdout",
          "text": [
            "[LightGBM] [Info] Number of positive: 23865, number of negative: 132176\n",
            "[LightGBM] [Info] Auto-choosing row-wise multi-threading, the overhead of testing was 0.029914 seconds.\n",
            "You can set `force_row_wise=true` to remove the overhead.\n",
            "And if memory is not enough, you can set `force_col_wise=true`.\n",
            "[LightGBM] [Info] Total Bins 163\n",
            "[LightGBM] [Info] Number of data points in the train set: 156041, number of used features: 45\n",
            "[LightGBM] [Info] [binary:BoostFromScore]: pavg=0.152941 -> initscore=-1.711721\n",
            "[LightGBM] [Info] Start training from score -1.711721\n"
          ]
        },
        {
          "output_type": "stream",
          "name": "stderr",
          "text": [
            "/usr/local/lib/python3.10/dist-packages/sklearn/preprocessing/_label.py:97: DataConversionWarning: A column-vector y was passed when a 1d array was expected. Please change the shape of y to (n_samples, ), for example using ravel().\n",
            "  y = column_or_1d(y, warn=True)\n",
            "/usr/local/lib/python3.10/dist-packages/sklearn/preprocessing/_label.py:132: DataConversionWarning: A column-vector y was passed when a 1d array was expected. Please change the shape of y to (n_samples, ), for example using ravel().\n",
            "  y = column_or_1d(y, dtype=self.classes_.dtype, warn=True)\n"
          ]
        },
        {
          "output_type": "stream",
          "name": "stdout",
          "text": [
            "[LightGBM] [Info] Number of positive: 23865, number of negative: 132176\n",
            "[LightGBM] [Info] Auto-choosing row-wise multi-threading, the overhead of testing was 0.029452 seconds.\n",
            "You can set `force_row_wise=true` to remove the overhead.\n",
            "And if memory is not enough, you can set `force_col_wise=true`.\n",
            "[LightGBM] [Info] Total Bins 163\n",
            "[LightGBM] [Info] Number of data points in the train set: 156041, number of used features: 45\n",
            "[LightGBM] [Info] [binary:BoostFromScore]: pavg=0.152941 -> initscore=-1.711721\n",
            "[LightGBM] [Info] Start training from score -1.711721\n"
          ]
        },
        {
          "output_type": "stream",
          "name": "stderr",
          "text": [
            "/usr/local/lib/python3.10/dist-packages/sklearn/preprocessing/_label.py:97: DataConversionWarning: A column-vector y was passed when a 1d array was expected. Please change the shape of y to (n_samples, ), for example using ravel().\n",
            "  y = column_or_1d(y, warn=True)\n",
            "/usr/local/lib/python3.10/dist-packages/sklearn/preprocessing/_label.py:132: DataConversionWarning: A column-vector y was passed when a 1d array was expected. Please change the shape of y to (n_samples, ), for example using ravel().\n",
            "  y = column_or_1d(y, dtype=self.classes_.dtype, warn=True)\n"
          ]
        },
        {
          "output_type": "stream",
          "name": "stdout",
          "text": [
            "[LightGBM] [Info] Number of positive: 23866, number of negative: 132176\n",
            "[LightGBM] [Info] Auto-choosing row-wise multi-threading, the overhead of testing was 0.030516 seconds.\n",
            "You can set `force_row_wise=true` to remove the overhead.\n",
            "And if memory is not enough, you can set `force_col_wise=true`.\n",
            "[LightGBM] [Info] Total Bins 164\n",
            "[LightGBM] [Info] Number of data points in the train set: 156042, number of used features: 45\n",
            "[LightGBM] [Info] [binary:BoostFromScore]: pavg=0.152946 -> initscore=-1.711680\n",
            "[LightGBM] [Info] Start training from score -1.711680\n"
          ]
        },
        {
          "output_type": "stream",
          "name": "stderr",
          "text": [
            "/usr/local/lib/python3.10/dist-packages/sklearn/preprocessing/_label.py:97: DataConversionWarning: A column-vector y was passed when a 1d array was expected. Please change the shape of y to (n_samples, ), for example using ravel().\n",
            "  y = column_or_1d(y, warn=True)\n",
            "/usr/local/lib/python3.10/dist-packages/sklearn/preprocessing/_label.py:132: DataConversionWarning: A column-vector y was passed when a 1d array was expected. Please change the shape of y to (n_samples, ), for example using ravel().\n",
            "  y = column_or_1d(y, dtype=self.classes_.dtype, warn=True)\n"
          ]
        },
        {
          "output_type": "stream",
          "name": "stdout",
          "text": [
            "[LightGBM] [Info] Number of positive: 23866, number of negative: 132176\n",
            "[LightGBM] [Info] Auto-choosing row-wise multi-threading, the overhead of testing was 0.039095 seconds.\n",
            "You can set `force_row_wise=true` to remove the overhead.\n",
            "And if memory is not enough, you can set `force_col_wise=true`.\n",
            "[LightGBM] [Info] Total Bins 164\n",
            "[LightGBM] [Info] Number of data points in the train set: 156042, number of used features: 45\n",
            "[LightGBM] [Info] [binary:BoostFromScore]: pavg=0.152946 -> initscore=-1.711680\n",
            "[LightGBM] [Info] Start training from score -1.711680\n"
          ]
        },
        {
          "output_type": "stream",
          "name": "stderr",
          "text": [
            "/usr/local/lib/python3.10/dist-packages/sklearn/preprocessing/_label.py:97: DataConversionWarning: A column-vector y was passed when a 1d array was expected. Please change the shape of y to (n_samples, ), for example using ravel().\n",
            "  y = column_or_1d(y, warn=True)\n",
            "/usr/local/lib/python3.10/dist-packages/sklearn/preprocessing/_label.py:132: DataConversionWarning: A column-vector y was passed when a 1d array was expected. Please change the shape of y to (n_samples, ), for example using ravel().\n",
            "  y = column_or_1d(y, dtype=self.classes_.dtype, warn=True)\n"
          ]
        },
        {
          "output_type": "stream",
          "name": "stdout",
          "text": [
            "[LightGBM] [Info] Number of positive: 23866, number of negative: 132176\n",
            "[LightGBM] [Info] Auto-choosing row-wise multi-threading, the overhead of testing was 0.029509 seconds.\n",
            "You can set `force_row_wise=true` to remove the overhead.\n",
            "And if memory is not enough, you can set `force_col_wise=true`.\n",
            "[LightGBM] [Info] Total Bins 164\n",
            "[LightGBM] [Info] Number of data points in the train set: 156042, number of used features: 45\n",
            "[LightGBM] [Info] [binary:BoostFromScore]: pavg=0.152946 -> initscore=-1.711680\n",
            "[LightGBM] [Info] Start training from score -1.711680\n"
          ]
        }
      ]
    },
    {
      "cell_type": "code",
      "source": [
        "lgb_metrics"
      ],
      "metadata": {
        "colab": {
          "base_uri": "https://localhost:8080/",
          "height": 241
        },
        "id": "Up-wZWDsaiHm",
        "outputId": "b70f9736-5c18-4c71-a737-c8193273a1b0"
      },
      "execution_count": 23,
      "outputs": [
        {
          "output_type": "execute_result",
          "data": {
            "text/plain": [
              "Precision      0.586338\n",
              "Recall         0.142096\n",
              "Specificity    0.981867\n",
              "Sensitivity    0.142096\n",
              "AUC            0.813029\n",
              "dtype: float64"
            ],
            "text/html": [
              "<div>\n",
              "<style scoped>\n",
              "    .dataframe tbody tr th:only-of-type {\n",
              "        vertical-align: middle;\n",
              "    }\n",
              "\n",
              "    .dataframe tbody tr th {\n",
              "        vertical-align: top;\n",
              "    }\n",
              "\n",
              "    .dataframe thead th {\n",
              "        text-align: right;\n",
              "    }\n",
              "</style>\n",
              "<table border=\"1\" class=\"dataframe\">\n",
              "  <thead>\n",
              "    <tr style=\"text-align: right;\">\n",
              "      <th></th>\n",
              "      <th>0</th>\n",
              "    </tr>\n",
              "  </thead>\n",
              "  <tbody>\n",
              "    <tr>\n",
              "      <th>Precision</th>\n",
              "      <td>0.586338</td>\n",
              "    </tr>\n",
              "    <tr>\n",
              "      <th>Recall</th>\n",
              "      <td>0.142096</td>\n",
              "    </tr>\n",
              "    <tr>\n",
              "      <th>Specificity</th>\n",
              "      <td>0.981867</td>\n",
              "    </tr>\n",
              "    <tr>\n",
              "      <th>Sensitivity</th>\n",
              "      <td>0.142096</td>\n",
              "    </tr>\n",
              "    <tr>\n",
              "      <th>AUC</th>\n",
              "      <td>0.813029</td>\n",
              "    </tr>\n",
              "  </tbody>\n",
              "</table>\n",
              "</div><br><label><b>dtype:</b> float64</label>"
            ]
          },
          "metadata": {},
          "execution_count": 23
        }
      ]
    },
    {
      "cell_type": "code",
      "source": [
        "# save model\n",
        "import joblib\n",
        "import os\n",
        "model_dir = \"../model\"\n",
        "joblib.dump(lgb_model,  \"LighGBM_model.pkl\")"
      ],
      "metadata": {
        "colab": {
          "base_uri": "https://localhost:8080/"
        },
        "id": "vMz4h--jak7r",
        "outputId": "57646036-ff0e-42b2-eea5-d5bc527995e4"
      },
      "execution_count": 25,
      "outputs": [
        {
          "output_type": "execute_result",
          "data": {
            "text/plain": [
              "['LighGBM_model.pkl']"
            ]
          },
          "metadata": {},
          "execution_count": 25
        }
      ]
    },
    {
      "cell_type": "markdown",
      "source": [
        "***________________________________________________######################___________________________________________________________________***"
      ],
      "metadata": {
        "id": "0bQEAbSh2oYq"
      }
    },
    {
      "cell_type": "markdown",
      "source": [
        "7. **Train SVC Model **"
      ],
      "metadata": {
        "id": "ANZni6_jWkZq"
      }
    },
    {
      "cell_type": "code",
      "source": [
        "\n",
        "# Function to calculate specificity\n",
        "def specificity_score(y_true, y_pred):\n",
        "    tn, fp, fn, tp = confusion_matrix(y_true, y_pred).ravel()\n",
        "    return tn / (tn + fp)\n",
        "\n",
        "# Function to evaluate metrics\n",
        "def evaluate_metrics(y_true, y_pred, y_scores):\n",
        "    precision = precision_score(y_true, y_pred)\n",
        "    recall = recall_score(y_true, y_pred)\n",
        "    specificity = specificity_score(y_true, y_pred)\n",
        "    sensitivity = recall  # Sensitivity is the same as recall\n",
        "    auc = roc_auc_score(y_true, y_scores)\n",
        "    return {\"Precision\": precision, \"Recall\": recall, \"Specificity\": specificity,\n",
        "            \"Sensitivity\": sensitivity, \"AUC\": auc}\n",
        "\n",
        "# Modified cross-validation function\n",
        "def cross_validate_model2(model, train_X, train_y, cv=5):\n",
        "    skf = StratifiedKFold(n_splits=cv, shuffle=True, random_state=42)\n",
        "    all_y_true = []\n",
        "    all_y_pred = []\n",
        "    all_y_scores = []\n",
        "\n",
        "    for train_index, val_index in skf.split(train_X, train_y):\n",
        "        X_train_fold, X_val_fold = train_X.iloc[train_index], train_X.iloc[val_index]\n",
        "        y_train_fold, y_val_fold = train_y.iloc[train_index], train_y.iloc[val_index]\n",
        "\n",
        "        # Train model\n",
        "        model.fit(X_train_fold, y_train_fold)\n",
        "\n",
        "        # Predict and store results\n",
        "        y_pred = model.predict(X_val_fold)\n",
        "        y_scores = model.predict_proba(X_val_fold)[:, 1]\n",
        "\n",
        "        all_y_true.extend(y_val_fold)\n",
        "        all_y_pred.extend(y_pred)\n",
        "        all_y_scores.extend(y_scores)\n",
        "\n",
        "    # Calculate metrics outside the loop\n",
        "    metrics = evaluate_metrics(all_y_true, all_y_pred, all_y_scores)\n",
        "    return metrics\n"
      ],
      "metadata": {
        "id": "AoY_oTFp7emX"
      },
      "execution_count": 26,
      "outputs": []
    },
    {
      "cell_type": "code",
      "execution_count": 27,
      "metadata": {
        "id": "3V4oavObDqzT"
      },
      "outputs": [],
      "source": [
        "# Build SVC Model\n",
        "SVM_model= SVC(gamma='auto',probability=True)\n"
      ]
    },
    {
      "cell_type": "code",
      "source": [
        "# Perform cross-validation\n",
        "SVM_metrics = cross_validate_model2(SVM_model, X_train, y_train)\n",
        "\n",
        "# Print metrics\n",
        "print(\"Cross-Validated Metrics:\")\n",
        "for metric, value in SVM_metrics.items():\n",
        "    print(f\"{metric}: {value:.4f}\")"
      ],
      "metadata": {
        "colab": {
          "base_uri": "https://localhost:8080/"
        },
        "id": "kK6ySkBg7qnh",
        "outputId": "541f2d18-b594-4ace-d96c-37364f7fa131"
      },
      "execution_count": null,
      "outputs": [
        {
          "output_type": "stream",
          "name": "stderr",
          "text": [
            "/usr/local/lib/python3.10/dist-packages/sklearn/utils/validation.py:1339: DataConversionWarning: A column-vector y was passed when a 1d array was expected. Please change the shape of y to (n_samples, ), for example using ravel().\n",
            "  y = column_or_1d(y, warn=True)\n"
          ]
        }
      ]
    },
    {
      "cell_type": "code",
      "source": [
        "# SVC model fitting\n",
        "#SVM_metrics = cross_validate_model(SVM_model, X_train, y_train, evaluate_metrics)"
      ],
      "metadata": {
        "id": "paEiwgRV4UEJ"
      },
      "execution_count": null,
      "outputs": []
    },
    {
      "cell_type": "code",
      "execution_count": null,
      "metadata": {
        "id": "rFLBLwJpE502"
      },
      "outputs": [],
      "source": [
        "#SVM_metrics"
      ]
    },
    {
      "cell_type": "code",
      "source": [
        "import joblib\n",
        "import os\n",
        "model_dir = \"../model\"\n",
        "joblib.dump(SVM_model,\"SVC_model.joblib\")"
      ],
      "metadata": {
        "id": "Yrt-CJnEcD9K"
      },
      "execution_count": null,
      "outputs": []
    },
    {
      "cell_type": "code",
      "execution_count": null,
      "metadata": {
        "colab": {
          "base_uri": "https://localhost:8080/"
        },
        "id": "4E0-8xWDHB6p",
        "outputId": "61f62349-b1e9-4e29-e3a9-8adf2732a056"
      },
      "outputs": [
        {
          "name": "stdout",
          "output_type": "stream",
          "text": [
            "Accuracy: 0.8492533844634246\n"
          ]
        }
      ],
      "source": [
        "# Evaluate the model's accuracy\n",
        "accuracy = accuracy_score(y_test, y_pred)\n",
        "print(\"Accuracy:\", accuracy)"
      ]
    }
  ],
  "metadata": {
    "colab": {
      "provenance": []
    },
    "kernelspec": {
      "display_name": "Python 3",
      "name": "python3"
    },
    "language_info": {
      "name": "python"
    }
  },
  "nbformat": 4,
  "nbformat_minor": 0
}