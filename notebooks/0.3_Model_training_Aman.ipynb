{
 "cells": [
  {
   "cell_type": "markdown",
   "metadata": {},
   "source": [
    "Random Forest, CAT Boost"
   ]
  },
  {
   "cell_type": "markdown",
   "metadata": {},
   "source": [
    "## 1. Imports"
   ]
  },
  {
   "cell_type": "code",
   "execution_count": 22,
   "metadata": {},
   "outputs": [],
   "source": [
    "import pandas as pd\n",
    "import numpy as np\n",
    "import joblib\n",
    "import os\n",
    "\n",
    "import matplotlib.pyplot as plt\n",
    "import seaborn as sns\n",
    "sns.set_style(\"darkgrid\")\n",
    "\n",
    "import warnings\n",
    "warnings.filterwarnings('ignore')\n",
    "\n",
    "from sklearn.ensemble import RandomForestClassifier\n",
    "from catboost import CatBoostClassifier\n",
    "from sklearn.metrics import precision_score, recall_score, roc_auc_score, confusion_matrix,roc_curve\n",
    "from sklearn.model_selection import train_test_split, cross_val_score, StratifiedKFold\n",
    "import shap"
   ]
  },
  {
   "cell_type": "markdown",
   "metadata": {},
   "source": [
    "## 2. Import Data"
   ]
  },
  {
   "cell_type": "code",
   "execution_count": 3,
   "metadata": {},
   "outputs": [],
   "source": [
    "train_X = pd.read_csv(\"../data/train/X_train.csv\")\n",
    "train_y = pd.read_csv(\"../data/train/y_train.csv\")\n",
    "test_X = pd.read_csv(\"../data/test/X_test.csv\")\n",
    "test_y = pd.read_csv(\"../data/test/y_test.csv\")"
   ]
  },
  {
   "cell_type": "markdown",
   "metadata": {},
   "source": [
    "## 3. Metrics functions"
   ]
  },
  {
   "cell_type": "code",
   "execution_count": 5,
   "metadata": {},
   "outputs": [],
   "source": [
    "# Function to calculate specificity\n",
    "def specificity_score(y_true, y_pred):\n",
    "    tn, fp, fn, tp = confusion_matrix(y_true, y_pred).ravel()\n",
    "    return tn / (tn + fp)\n",
    "\n",
    "# Function to evaluate metrics\n",
    "def evaluate_metrics(y_true, y_pred, y_scores):\n",
    "    precision = precision_score(y_true, y_pred)\n",
    "    recall = recall_score(y_true, y_pred)\n",
    "    specificity = specificity_score(y_true, y_pred)\n",
    "    sensitivity = recall  # Sensitivity is the same as recall\n",
    "    auc = roc_auc_score(y_true, y_scores)\n",
    "    return precision, recall, specificity, sensitivity, auc"
   ]
  },
  {
   "cell_type": "markdown",
   "metadata": {},
   "source": [
    "## 4. Cross-Validation code"
   ]
  },
  {
   "cell_type": "code",
   "execution_count": 6,
   "metadata": {},
   "outputs": [],
   "source": [
    "# 5-fold Cross-Validation\n",
    "def cross_validate_model(model, train_X, train_y, metrics_fn, cv=5):\n",
    "    skf = StratifiedKFold(n_splits=cv)\n",
    "    metrics_list = []\n",
    "\n",
    "    for train_index, val_index in skf.split(train_X, train_y):\n",
    "        X_train, X_val = train_X.iloc[train_index], train_X.iloc[val_index]\n",
    "        y_train, y_val = train_y.iloc[train_index], train_y.iloc[val_index]\n",
    "\n",
    "        model.fit(X_train, y_train)\n",
    "        y_pred = model.predict(X_val)\n",
    "        y_scores = model.predict_proba(X_val)[:, 1]\n",
    "        \n",
    "        metrics_list.append(metrics_fn(y_val, y_pred, y_scores))\n",
    "    \n",
    "    metrics_df = pd.DataFrame(metrics_list, columns=[\"Precision\", \"Recall\", \"Specificity\", \"Sensitivity\", \"AUC\"])\n",
    "    return metrics_df.mean(axis=0)\n"
   ]
  },
  {
   "cell_type": "markdown",
   "metadata": {},
   "source": [
    "## 5. Train RF Model"
   ]
  },
  {
   "cell_type": "code",
   "execution_count": 12,
   "metadata": {},
   "outputs": [],
   "source": [
    "rf_model = RandomForestClassifier(\n",
    "    n_estimators=100,      \n",
    "    max_depth=10,           \n",
    "    min_samples_split=10,   \n",
    "    min_samples_leaf=5,     \n",
    "    random_state=42         \n",
    ")\n",
    "rf_metrics = cross_validate_model(rf_model, train_X, train_y, evaluate_metrics)\n"
   ]
  },
  {
   "cell_type": "code",
   "execution_count": 13,
   "metadata": {},
   "outputs": [
    {
     "data": {
      "text/plain": [
       "Precision      0.643556\n",
       "Recall         0.051857\n",
       "Specificity    0.994801\n",
       "Sensitivity    0.051857\n",
       "AUC            0.802507\n",
       "dtype: float64"
      ]
     },
     "execution_count": 13,
     "metadata": {},
     "output_type": "execute_result"
    }
   ],
   "source": [
    "rf_metrics"
   ]
  },
  {
   "cell_type": "code",
   "execution_count": 17,
   "metadata": {},
   "outputs": [
    {
     "data": {
      "text/plain": [
       "['../model\\\\random_forest_model.pkl']"
      ]
     },
     "execution_count": 17,
     "metadata": {},
     "output_type": "execute_result"
    }
   ],
   "source": [
    "model_dir = \"../model\"\n",
    "joblib.dump(rf_model, os.path.join(model_dir, \"random_forest_model.pkl\"))"
   ]
  },
  {
   "cell_type": "markdown",
   "metadata": {},
   "source": [
    "## 6. Train CatBoost"
   ]
  },
  {
   "cell_type": "code",
   "execution_count": null,
   "metadata": {},
   "outputs": [
    {
     "name": "stdout",
     "output_type": "stream",
     "text": [
      "CatBoost Metrics:\n",
      "Precision      0.561045\n",
      "Recall         0.161672\n",
      "Specificity    0.977127\n",
      "Sensitivity    0.161672\n",
      "AUC            0.812594\n",
      "dtype: float64\n"
     ]
    }
   ],
   "source": [
    "# Initialize CatBoost model with parameters to avoid overfitting\n",
    "catboost_model = CatBoostClassifier(\n",
    "    iterations=500,         # Perform 500 boosting rounds\n",
    "    depth=6,                # Depth of the tree\n",
    "    learning_rate=0.1,      # Learning rate for gradient descent\n",
    "    l2_leaf_reg=3,          # L2 regularization term on weights\n",
    "    verbose=0               # Silent output\n",
    ")\n",
    "catboost_metrics = cross_validate_model(catboost_model, train_X, train_y, evaluate_metrics)\n",
    "\n",
    "print(\"CatBoost Metrics:\")\n",
    "print(catboost_metrics)"
   ]
  },
  {
   "cell_type": "code",
   "execution_count": 18,
   "metadata": {},
   "outputs": [],
   "source": [
    "catboost_model.save_model(os.path.join(model_dir, \"catboost_model.cbm\"))"
   ]
  },
  {
   "cell_type": "markdown",
   "metadata": {},
   "source": [
    "## 7. Load Model"
   ]
  },
  {
   "cell_type": "code",
   "execution_count": 19,
   "metadata": {},
   "outputs": [
    {
     "data": {
      "text/plain": [
       "<catboost.core.CatBoostClassifier at 0x1d1849f9d88>"
      ]
     },
     "execution_count": 19,
     "metadata": {},
     "output_type": "execute_result"
    }
   ],
   "source": [
    "loaded_rf_model = joblib.load(os.path.join(model_dir, \"random_forest_model.pkl\"))\n",
    "loaded_catboost_model = CatBoostClassifier()\n",
    "loaded_catboost_model.load_model(os.path.join(model_dir, \"catboost_model.cbm\"))"
   ]
  },
  {
   "cell_type": "code",
   "execution_count": null,
   "metadata": {},
   "outputs": [],
   "source": []
  }
 ],
 "metadata": {
  "kernelspec": {
   "display_name": "Python 3",
   "language": "python",
   "name": "python3"
  },
  "language_info": {
   "codemirror_mode": {
    "name": "ipython",
    "version": 3
   },
   "file_extension": ".py",
   "mimetype": "text/x-python",
   "name": "python",
   "nbconvert_exporter": "python",
   "pygments_lexer": "ipython3",
   "version": "3.7.9"
  }
 },
 "nbformat": 4,
 "nbformat_minor": 2
}
