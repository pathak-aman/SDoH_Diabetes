{
 "cells": [
  {
   "cell_type": "markdown",
   "metadata": {},
   "source": [
    "# 1. Import"
   ]
  },
  {
   "cell_type": "code",
   "execution_count": 1,
   "metadata": {},
   "outputs": [
    {
     "name": "stderr",
     "output_type": "stream",
     "text": [
      "/home/rootroot/miniconda3/envs/causal_ai/lib/python3.10/site-packages/tqdm/auto.py:21: TqdmWarning: IProgress not found. Please update jupyter and ipywidgets. See https://ipywidgets.readthedocs.io/en/stable/user_install.html\n",
      "  from .autonotebook import tqdm as notebook_tqdm\n"
     ]
    }
   ],
   "source": [
    "import joblib\n",
    "import os\n",
    "\n",
    "import numpy as np\n",
    "import pandas as pd\n",
    "\n",
    "import shap\n",
    "import matplotlib.pyplot as plt\n",
    "\n",
    "import lightgbm as lgbm\n",
    "from catboost import CatBoostClassifier\n",
    "from sklearn.linear_model import LogisticRegression"
   ]
  },
  {
   "cell_type": "markdown",
   "metadata": {},
   "source": [
    "\n",
    "# 2. Load models"
   ]
  },
  {
   "cell_type": "code",
   "execution_count": 2,
   "metadata": {},
   "outputs": [],
   "source": [
    "model_dir = \"../model\"\n",
    "# Load CatBoost model\n",
    "catboost_model = CatBoostClassifier()\n",
    "catboost_model.load_model(os.path.join(model_dir, \"catboost_model.cbm\"))\n",
    "\n",
    "# Load LightGBM model\n",
    "lightgbm_model = joblib.load(os.path.join(model_dir, \"LighGBM_model.pkl\"))\n",
    "\n",
    "# Load Logistic Regression model\n",
    "lr_model = joblib.load(os.path.join(model_dir, \"LR_model.pkl\"))\n",
    "\n",
    "# Load Random Forest model\n",
    "rf_model = joblib.load(os.path.join(model_dir, \"random_forest_model.pkl\"))"
   ]
  },
  {
   "cell_type": "markdown",
   "metadata": {},
   "source": [
    "# 3. Load test X"
   ]
  },
  {
   "cell_type": "code",
   "execution_count": 3,
   "metadata": {},
   "outputs": [],
   "source": [
    "test_X = pd.read_csv('../data/test/X_test.csv')"
   ]
  },
  {
   "cell_type": "markdown",
   "metadata": {},
   "source": [
    "# 4. Shap calculation"
   ]
  },
  {
   "cell_type": "code",
   "execution_count": 4,
   "metadata": {},
   "outputs": [
    {
     "name": "stderr",
     "output_type": "stream",
     "text": [
      "/home/rootroot/miniconda3/envs/causal_ai/lib/python3.10/site-packages/shap/explainers/_tree.py:448: UserWarning: LightGBM binary classifier with TreeExplainer shap values output has changed to a list of ndarray\n",
      "  warnings.warn('LightGBM binary classifier with TreeExplainer shap values output has changed to a list of ndarray')\n"
     ]
    }
   ],
   "source": [
    "# SHAP values for CatBoost\n",
    "explainer_cb = shap.TreeExplainer(catboost_model)\n",
    "shap_values_cb = explainer_cb.shap_values(test_X)\n",
    "\n",
    "# SHAP values for LightGBM\n",
    "explainer_lgb = shap.TreeExplainer(lightgbm_model)\n",
    "shap_values_lgb = explainer_lgb.shap_values(test_X)\n",
    "\n",
    "# SHAP values for Logistic Regression\n",
    "explainer_lr = shap.LinearExplainer(lr_model, test_X)\n",
    "shap_values_lr = explainer_lr.shap_values(test_X)\n",
    "shap_values_lr = np.array(shap_values_lr, dtype=float)\n",
    "\n",
    "# SHAP values for Random Forest\n",
    "explainer_rf = shap.TreeExplainer(rf_model)\n",
    "shap_values_rf = explainer_rf.shap_values(test_X)"
   ]
  },
  {
   "cell_type": "markdown",
   "metadata": {},
   "source": [
    "# 5. Plot SHAP"
   ]
  },
  {
   "cell_type": "code",
   "execution_count": 9,
   "metadata": {},
   "outputs": [],
   "source": [
    "# CatBoost SHAP Values\n",
    "plt.figure(figsize=(10, 10))\n",
    "shap.summary_plot(shap_values_cb, test_X, show=False)\n",
    "plt.title(\"CatBoost SHAP Values\")\n",
    "plt.tight_layout()\n",
    "plt.savefig('../plots/shap_values_catboost.png')\n",
    "plt.close()\n",
    "\n",
    "# LightGBM SHAP Values\n",
    "plt.figure(figsize=(10, 10))\n",
    "shap.summary_plot(shap_values_lgb, test_X, show=False)\n",
    "plt.title(\"LightGBM SHAP Values\")\n",
    "plt.tight_layout()\n",
    "plt.savefig('../plots/shap_values_lightgbm.png')\n",
    "plt.close()\n",
    "\n",
    "# Logistic Regression SHAP Values\n",
    "plt.figure(figsize=(10, 10))\n",
    "shap.summary_plot(shap_values_lr, test_X, show=False)\n",
    "plt.title(\"Logistic Regression SHAP Values\")\n",
    "plt.tight_layout()\n",
    "plt.savefig('../plots/shap_values_logistic.png')\n",
    "plt.close()\n",
    "\n",
    "# Random Forest SHAP Values\n",
    "plt.figure(figsize=(10, 10))\n",
    "shap.summary_plot(shap_values_rf[:,:,1], test_X, show=False)\n",
    "plt.title(\"Random Forest SHAP Values\")\n",
    "plt.tight_layout()\n",
    "plt.savefig('../plots/shap_values_random_forest.png')\n",
    "plt.close()"
   ]
  },
  {
   "cell_type": "code",
   "execution_count": null,
   "metadata": {},
   "outputs": [
    {
     "data": {
      "text/plain": [
       "<Figure size 640x480 with 0 Axes>"
      ]
     },
     "metadata": {},
     "output_type": "display_data"
    }
   ],
   "source": []
  },
  {
   "cell_type": "code",
   "execution_count": null,
   "metadata": {},
   "outputs": [],
   "source": []
  }
 ],
 "metadata": {
  "kernelspec": {
   "display_name": "causal_ai",
   "language": "python",
   "name": "python3"
  },
  "language_info": {
   "codemirror_mode": {
    "name": "ipython",
    "version": 3
   },
   "file_extension": ".py",
   "mimetype": "text/x-python",
   "name": "python",
   "nbconvert_exporter": "python",
   "pygments_lexer": "ipython3",
   "version": "3.10.15"
  }
 },
 "nbformat": 4,
 "nbformat_minor": 2
}
